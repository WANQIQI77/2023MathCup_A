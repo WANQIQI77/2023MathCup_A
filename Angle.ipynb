{
 "cells": [
  {
   "cell_type": "code",
   "execution_count": 1,
   "metadata": {
    "collapsed": true
   },
   "outputs": [
    {
     "name": "stdout",
     "output_type": "stream",
     "text": [
      "每个月D的值为\n",
      "[-59, -28, 0, 31, 61, 92, 122, 153, 184, 214, 245, 275]\n"
     ]
    }
   ],
   "source": [
    "from datetime import datetime\n",
    "import math\n",
    "\n",
    "'''求D 以春分作为第0天起算的天数'''\n",
    "# 输入目标日期\n",
    "target_date = \"2023-03-21\"\n",
    "\n",
    "# 输入给定的多个日期\n",
    "given_dates = [\"2023-01-21\", \"2023-02-21\", \"2023-03-21\", \"2023-04-21\", \"2023-05-21\", \"2023-06-21\", \"2023-07-21\",\n",
    "               \"2023-08-21\", \"2023-09-21\", \"2023-10-21\", \"2023-11-21\", \"2023-12-21\"]\n",
    "\n",
    "# 将目标日期转换为 datetime 对象\n",
    "target_datetime = datetime.strptime(target_date, \"%Y-%m-%d\")\n",
    "\n",
    "# 计算每个给定日期距离目标日期的天数\n",
    "D_values = []\n",
    "print(\"每个月D的值为\")\n",
    "for given_date in given_dates:\n",
    "    given_datetime = datetime.strptime(given_date, \"%Y-%m-%d\")\n",
    "    time_difference = given_datetime - target_datetime\n",
    "    days_until_target = time_difference.days\n",
    "    D_values.append(days_until_target)\n",
    "print(D_values)"
   ]
  },
  {
   "cell_type": "code",
   "execution_count": 2,
   "outputs": [
    {
     "name": "stdout",
     "output_type": "stream",
     "text": [
      "每月对应的太阳赤纬角sin(delta)值为\n",
      "[-0.007053759599157679, -0.0033476827596012446, 0.0, 0.0037063531856530918, 0.00729284376131722, 0.010998258201148383, 0.01458323804675915, 0.018286469188769822, 0.021988114054428912, 0.025568538228669894, 0.029266124288140585, 0.032842019463921]\n",
      "每月对应的太阳赤纬角cos(delta)值为\n",
      "[0.9999751219282994, 0.9999943964943709, 1.0, 0.9999931314494431, 0.999973406861339, 0.9999395173291937, 0.9998936589298242, 0.9998327885424684, 0.9997582321943288, 0.9996730714852976, 0.9995716552449609, 0.9994605553785159]\n",
      "太阳时角omega\n",
      "[5.497787143782138, 5.890486225480862, 0.0, 0.39269908169872414, 0.7853981633974483]\n"
     ]
    }
   ],
   "source": [
    "'''太阳赤纬角'''\n",
    "# 计算每个D值对应的delta\n",
    "all_sin_delta = []\n",
    "all_cos_delta = []\n",
    "for D in D_values:\n",
    "    D_radians = math.radians(D)\n",
    "    sin_delta = math.sin(2 * math.pi * D_radians / 365) * math.sin(2 * math.pi * 23.45 / 360)\n",
    "    cos_delta = math.sqrt(1 - sin_delta ** 2)\n",
    "    all_sin_delta.append(sin_delta)\n",
    "    all_cos_delta.append(cos_delta)\n",
    "\n",
    "# 打印每个D值对应的结果\n",
    "print(\"每月对应的太阳赤纬角sin(delta)值为\")\n",
    "print(all_sin_delta)\n",
    "\n",
    "print(\"每月对应的太阳赤纬角cos(delta)值为\")\n",
    "print(all_cos_delta)\n",
    "\n",
    "'''求太阳时角omega'''\n",
    "# 给定每天的时间点（小时和分钟）\n",
    "time_points = [\"9:00\", \"10:30\", \"12:00\", \"13:30\", \"15:00\"]\n",
    "print(\"太阳时角omega\")\n",
    "omega_values = []\n",
    "# 计算每个时间点对应的太阳时角\n",
    "for time in time_points:\n",
    "    # 解析时间字符串为小时和分钟\n",
    "    hours, minutes = map(int, time.split(':'))\n",
    "\n",
    "    # 计算总分钟数\n",
    "    total_minutes = hours * 60 + minutes\n",
    "\n",
    "    # 计算当地时间对应的ST\n",
    "    ST = total_minutes / 60\n",
    "\n",
    "    # 计算太阳时角\n",
    "    omega = (math.pi / 12) * (ST - 12)\n",
    "\n",
    "    # 请注意，如果太阳时角超出了合理范围，需要进行调整，使其在 0 到 2𝜋 之间\n",
    "    if omega < 0:\n",
    "        omega += 2 * math.pi\n",
    "    elif omega >= 2 * math.pi:\n",
    "        omega -= 2 * math.pi\n",
    "    omega_values.append(omega)\n",
    "print(omega_values)"
   ],
   "metadata": {
    "collapsed": false
   }
  },
  {
   "cell_type": "code",
   "execution_count": 8,
   "outputs": [],
   "source": [
    "'''求太阳高度角'''\n",
    "'''sin 𝛼 = cos 𝛿 cos 𝜑 cos 𝜔 + sin 𝛿 sin 𝜑'''\n",
    "\n",
    "all_sin_alpha = [[i for i in range(5)] for _ in range(12)]\n",
    "all_cos_alpha = [[i for i in range(5)] for _ in range(12)]\n",
    "all_angle = [[i for i in range(5)] for _ in range(12)]\n",
    "latitude = math.radians(39.4)\n",
    "for month in range(12):\n",
    "    for time in range(5):\n",
    "        sin_alpha = all_cos_delta[month] * math.cos(latitude) * math.cos(omega_values[time]) + all_sin_delta[\n",
    "            month] * math.sin(\n",
    "            latitude)\n",
    "        cos_alpha = math.sqrt(1 - sin_alpha ** 2)\n",
    "        angle=math.acos(cos_alpha)\n",
    "        #print(angle)\n",
    "        # print(cos_alpha)\n",
    "        all_sin_alpha[month][time] = sin_alpha\n",
    "        all_cos_alpha[month][time] = cos_alpha\n",
    "        all_angle[month][time]= angle\n",
    "#print(\"太阳高度角sin值\")\n",
    "#print(all_sin_alpha)\n",
    "#print(\"太阳高度角cos值\")\n",
    "#print(all_cos_alpha)\n",
    "#print(\"太阳高度角的弧度值\")\n",
    "#print(all_angle)"
   ],
   "metadata": {
    "collapsed": false
   }
  },
  {
   "cell_type": "code",
   "execution_count": 25,
   "outputs": [
    {
     "name": "stdout",
     "output_type": "stream",
     "text": [
      "2.141837969589002\n",
      "2.5676312006235533\n",
      "3.141592653589793\n",
      "2.5676312006235538\n",
      "2.1418379695890026\n",
      "2.1389657446741843\n",
      "2.565417356318652\n",
      "3.141592653589793\n",
      "2.565417356318653\n",
      "2.1389657446741848\n",
      "2.1363622849429795\n",
      "2.5634046203904823\n",
      "3.141592653589793\n",
      "2.5634046203904832\n",
      "2.13636228494298\n",
      "2.133469816937496\n",
      "2.561161661048586\n",
      "3.141592638688632\n",
      "2.5611616610485863\n",
      "2.133469816937496\n",
      "2.130660694546043\n",
      "2.5589764445971395\n",
      "3.141592638688632\n",
      "2.558976444597141\n",
      "2.1306606945460436\n",
      "2.1277477649052017\n",
      "2.5567032599496002\n",
      "3.141592653589793\n",
      "2.556703259949601\n",
      "2.127747764905202\n",
      "2.1249190781827254\n",
      "2.554488737079252\n",
      "3.141592653589793\n",
      "2.5544887370792524\n",
      "2.1249190781827254\n",
      "2.1219861824726536\n",
      "2.552185214594211\n",
      "3.141592653589793\n",
      "2.552185214594211\n",
      "2.1219861824726536\n",
      "2.1190433368079638\n",
      "2.5498662359936146\n",
      "3.141592638688632\n",
      "2.5498662359936155\n",
      "2.119043336807964\n",
      "2.1161860764402722\n",
      "2.5476073249529616\n",
      "3.141592627780225\n",
      "2.5476073249529625\n",
      "2.1161860764402727\n",
      "2.113224052992651\n",
      "2.545257866863336\n",
      "3.141592653589793\n",
      "2.5452578668633374\n",
      "2.113224052992651\n",
      "2.1103484974097877\n",
      "2.5429694221165913\n",
      "3.141592638688632\n",
      "2.5429694221165926\n",
      "2.110348497409788\n"
     ]
    }
   ],
   "source": [
    "'''太阳方位角'''\n",
    "all_cos_gama = [[i for i in range(5)] for _ in range(12)]\n",
    "all_angle = [[i for i in range(5)] for _ in range(12)]\n",
    "for month in range(12):\n",
    "    for time in range(5):\n",
    "        cos_gama = (all_sin_delta[month] - all_sin_alpha[month][time] * math.sin(latitude)) / (\n",
    "                all_cos_alpha[month][time] * math.cos(latitude))\n",
    "        if cos_gama<-1:\n",
    "            cos_gama=-1\n",
    "        if cos_gama>1:\n",
    "            cos_gama=1\n",
    "        all_cos_gama[month][time] = cos_gama\n",
    "        angle=math.acos(cos_gama)\n",
    "        #print(cos_gama)\n",
    "        print(angle)\n",
    "\n",
    "#print(\"太阳方位角的cos值\")\n",
    "#print(all_cos_gama)"
   ],
   "metadata": {
    "collapsed": false
   }
  },
  {
   "cell_type": "code",
   "execution_count": null,
   "outputs": [],
   "source": [],
   "metadata": {
    "collapsed": false
   }
  }
 ],
 "metadata": {
  "kernelspec": {
   "display_name": "Python 3",
   "language": "python",
   "name": "python3"
  },
  "language_info": {
   "codemirror_mode": {
    "name": "ipython",
    "version": 2
   },
   "file_extension": ".py",
   "mimetype": "text/x-python",
   "name": "python",
   "nbconvert_exporter": "python",
   "pygments_lexer": "ipython2",
   "version": "2.7.6"
  }
 },
 "nbformat": 4,
 "nbformat_minor": 0
}
