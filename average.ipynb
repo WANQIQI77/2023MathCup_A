{
 "cells": [
  {
   "cell_type": "code",
   "execution_count": 35,
   "metadata": {
    "collapsed": true
   },
   "outputs": [
    {
     "name": "stdout",
     "output_type": "stream",
     "text": [
      "<class 'list'>\n",
      "[0.9886029243119268, 0.9898747133027523, 0.9828512041284403, 0.9754446674311927, 0.9876017775229358, 0.9090415711009175, 0.8973853211009175, 0.8884690366972476, 0.8841731651376147, 0.9190412844036698, 0.9774010894495413, 0.9673626720183485]\n"
     ]
    }
   ],
   "source": [
    "\n",
    "import pandas as pd\n",
    "import numpy as np\n",
    "# 读取Excel文件\n",
    "excel_file = '截断损失初始表.xlsx'  # 将 'your_excel_file.xlsx' 替换为你的Excel文件路径\n",
    "df = pd.read_excel(excel_file)\n",
    "\n",
    "# 计算每列的平均值\n",
    "column_averages = df.mean()\n",
    "column_averages_length = len(column_averages)\n",
    "#print('每列均值')\n",
    "#print(column_averages)\n",
    "# 每五个数计算平均值\n",
    "trunc_results = []\n",
    "for i in range(0, len(column_averages), 5):\n",
    "    chunk = column_averages[i:i+5]\n",
    "    average = np.mean(chunk)\n",
    "    result = 1 - average\n",
    "    trunc_results.append(result)\n",
    "print(type(trunc_results))\n",
    "#print(trunc_results)\n",
    "results=[1 - x for x in trunc_results]\n",
    "print(results)\n"
   ]
  },
  {
   "cell_type": "code",
   "execution_count": 36,
   "outputs": [
    {
     "name": "stdout",
     "output_type": "stream",
     "text": [
      "<class 'list'>\n",
      "[[0.9886029243119268, 0.9898747133027523, 0.9828512041284403, 0.9754446674311927, 0.9876017775229358, 0.9090415711009175, 0.8973853211009175, 0.8884690366972476, 0.8841731651376147, 0.9190412844036698, 0.9774010894495413, 0.9673626720183485], [0.9280650147371532, 0.9280873771151305, 0.9280813577885239, 0.9281080242362542, 0.928064446268914, 0.9280498247140828, 0.9279856045516868, 0.9279173706291409, 0.9279317054868187, 0.9278967284340851, 0.9279110632917628, 0.9278715017118087]]\n"
     ]
    }
   ],
   "source": [
    "\n",
    "import pandas as pd\n",
    "import numpy as np\n",
    "# 读取Excel文件\n",
    "excel_file = '遮挡损失初始表.xlsx'  # 将 'your_excel_file.xlsx' 替换为你的Excel文件路径\n",
    "df = pd.read_excel(excel_file)\n",
    "\n",
    "# 计算每列的平均值\n",
    "column_averages = df.mean()\n",
    "column_averages_length = len(column_averages)\n",
    "#print(column_averages_length)\n",
    "#print(column_averages)\n",
    "\n",
    "\n",
    "# 每五个数计算平均值\n",
    "sb_results = []\n",
    "for i in range(0, len(column_averages), 5):\n",
    "    chunk = column_averages[i:i+5]\n",
    "    average = np.mean(chunk)\n",
    "    result = 1 - average\n",
    "    sb_results .append(result)\n",
    "#print(sb_results)\n",
    "print(type(sb_results))\n",
    "sb_results=\n",
    "results=[results,sb_results]\n",
    "print(results)"
   ],
   "metadata": {
    "collapsed": false
   }
  },
  {
   "cell_type": "code",
   "execution_count": 29,
   "outputs": [
    {
     "name": "stdout",
     "output_type": "stream",
     "text": [
      "[[[0.9886029243119268, 0.9898747133027523, 0.9828512041284403, 0.9754446674311927, 0.9876017775229358, 0.9090415711009175, 0.8973853211009175, 0.8884690366972476, 0.8841731651376147, 0.9190412844036698, 0.9774010894495413, 0.9673626720183485], [0.9280650147371532, 0.9280873771151305, 0.9280813577885239, 0.9281080242362542, 0.928064446268914, 0.9280498247140828, 0.9279856045516868, 0.9279173706291409, 0.9279317054868187, 0.9278967284340851, 0.9279110632917628, 0.9278715017118087]], [0.798285487688103, 0.7984775760334989, 0.7986498997175627, 0.7988393818710371, 0.7990214434635902, 0.7992082191318454, 0.7993876559068311, 0.799571712706881, 0.7997543818237539, 0.7999298326060525, 0.8001097565762877, 0.8002825403635279]]\n"
     ]
    }
   ],
   "source": [
    "import pandas as pd\n",
    "import numpy as np\n",
    "import math\n",
    "# 读取Excel文件\n",
    "excel_file = '光线反射角初始表.xlsx'  # 将 'your_excel_file.xlsx' 替换为你的Excel文件路径\n",
    "df = pd.read_excel(excel_file)\n",
    "\n",
    "# 计算每列的平均值\n",
    "column_averages = df.mean()\n",
    "column_averages_length = len(column_averages)\n",
    "\n",
    "# 每五个数计算平均值\n",
    "cos_results = []\n",
    "for i in range(0, len(column_averages), 5):\n",
    "    chunk = column_averages[i:i+5]\n",
    "    average = np.mean(chunk)\n",
    "    result = math.cos(average)\n",
    "    cos_results.append(result)\n",
    "\n",
    "results=[results,cos_results]\n",
    "print(results)"
   ],
   "metadata": {
    "collapsed": false
   }
  },
  {
   "cell_type": "code",
   "execution_count": 30,
   "outputs": [
    {
     "name": "stdout",
     "output_type": "stream",
     "text": [
      "0.9651603367995296\n"
     ]
    }
   ],
   "source": [
    "\n",
    "# 读取Excel文件\n",
    "excel_file = 'eta_at.xlsx'  # 将 'your_excel_file.xlsx' 替换为你的Excel文件路径\n",
    "df = pd.read_excel(excel_file)\n",
    "\n",
    "# 选择名为\"eta\"的列\n",
    "eta_at = df['eta_at']\n",
    "# 计算平均值\n",
    "eta_at_mean = eta_at.mean()\n",
    "# 打印或进行其他操作\n",
    "print(eta_at_mean)\n"
   ],
   "metadata": {
    "collapsed": false
   }
  },
  {
   "cell_type": "code",
   "execution_count": 32,
   "outputs": [
    {
     "name": "stdout",
     "output_type": "stream",
     "text": [
      "平均光学效率\n",
      "[0.00749752 0.00666264 0.01128661 0.01616557 0.00816363 0.05990478\n",
      " 0.06759203 0.07347667 0.07632541 0.05335836 0.01489809 0.02151954]\n",
      "[[[[[0.9886029243119268, 0.9898747133027523, 0.9828512041284403, 0.9754446674311927, 0.9876017775229358, 0.9090415711009175, 0.8973853211009175, 0.8884690366972476, 0.8841731651376147, 0.9190412844036698, 0.9774010894495413, 0.9673626720183485], [0.9280650147371532, 0.9280873771151305, 0.9280813577885239, 0.9281080242362542, 0.928064446268914, 0.9280498247140828, 0.9279856045516868, 0.9279173706291409, 0.9279317054868187, 0.9278967284340851, 0.9279110632917628, 0.9278715017118087]], [0.798285487688103, 0.7984775760334989, 0.7986498997175627, 0.7988393818710371, 0.7990214434635902, 0.7992082191318454, 0.7993876559068311, 0.799571712706881, 0.7997543818237539, 0.7999298326060525, 0.8001097565762877, 0.8002825403635279]], array([0.00749752, 0.00666264, 0.01128661, 0.01616557, 0.00816363,\n",
      "       0.05990478, 0.06759203, 0.07347667, 0.07632541, 0.05335836,\n",
      "       0.01489809, 0.02151954])], [0.0074975153160653256, 0.006662637928692602, 0.011286607309792154, 0.016165573203054596, 0.008163629547378128, 0.05990478013643869, 0.0675920255098879, 0.07347667123357654, 0.07632540625382188, 0.053358356007421136, 0.014898094194500378, 0.021519544166164334]]\n"
     ]
    },
    {
     "ename": "KeyError",
     "evalue": "'passes columns are not ALL present dataframe'",
     "output_type": "error",
     "traceback": [
      "\u001B[1;31m---------------------------------------------------------------------------\u001B[0m",
      "\u001B[1;31mKeyError\u001B[0m                                  Traceback (most recent call last)",
      "Cell \u001B[1;32mIn[32], line 14\u001B[0m\n\u001B[0;32m     12\u001B[0m output_excel_file\u001B[38;5;241m=\u001B[39m\u001B[38;5;124m'\u001B[39m\u001B[38;5;124mresult.xlsx\u001B[39m\u001B[38;5;124m'\u001B[39m\n\u001B[0;32m     13\u001B[0m column_names\u001B[38;5;241m=\u001B[39m[\u001B[38;5;124m'\u001B[39m\u001B[38;5;124meta_trunc\u001B[39m\u001B[38;5;124m'\u001B[39m,\u001B[38;5;124m'\u001B[39m\u001B[38;5;124meta_sb\u001B[39m\u001B[38;5;124m'\u001B[39m,\u001B[38;5;124m'\u001B[39m\u001B[38;5;124meta_cos\u001B[39m\u001B[38;5;124m'\u001B[39m,\u001B[38;5;124m'\u001B[39m\u001B[38;5;124mave\u001B[39m\u001B[38;5;124m'\u001B[39m]\n\u001B[1;32m---> 14\u001B[0m df_result\u001B[38;5;241m.\u001B[39mto_excel(output_excel_file,columns\u001B[38;5;241m=\u001B[39mcolumn_names,index\u001B[38;5;241m=\u001B[39m\u001B[38;5;28;01mFalse\u001B[39;00m)\n\u001B[0;32m     15\u001B[0m \u001B[38;5;28mprint\u001B[39m(\u001B[38;5;124mf\u001B[39m\u001B[38;5;124m'\u001B[39m\u001B[38;5;124mData has been written to \u001B[39m\u001B[38;5;132;01m{\u001B[39;00moutput_excel_file\u001B[38;5;132;01m}\u001B[39;00m\u001B[38;5;124m'\u001B[39m)\n",
      "File \u001B[1;32m~\\anaconda3\\Lib\\site-packages\\pandas\\util\\_decorators.py:211\u001B[0m, in \u001B[0;36mdeprecate_kwarg.<locals>._deprecate_kwarg.<locals>.wrapper\u001B[1;34m(*args, **kwargs)\u001B[0m\n\u001B[0;32m    209\u001B[0m     \u001B[38;5;28;01melse\u001B[39;00m:\n\u001B[0;32m    210\u001B[0m         kwargs[new_arg_name] \u001B[38;5;241m=\u001B[39m new_arg_value\n\u001B[1;32m--> 211\u001B[0m \u001B[38;5;28;01mreturn\u001B[39;00m func(\u001B[38;5;241m*\u001B[39margs, \u001B[38;5;241m*\u001B[39m\u001B[38;5;241m*\u001B[39mkwargs)\n",
      "File \u001B[1;32m~\\anaconda3\\Lib\\site-packages\\pandas\\util\\_decorators.py:211\u001B[0m, in \u001B[0;36mdeprecate_kwarg.<locals>._deprecate_kwarg.<locals>.wrapper\u001B[1;34m(*args, **kwargs)\u001B[0m\n\u001B[0;32m    209\u001B[0m     \u001B[38;5;28;01melse\u001B[39;00m:\n\u001B[0;32m    210\u001B[0m         kwargs[new_arg_name] \u001B[38;5;241m=\u001B[39m new_arg_value\n\u001B[1;32m--> 211\u001B[0m \u001B[38;5;28;01mreturn\u001B[39;00m func(\u001B[38;5;241m*\u001B[39margs, \u001B[38;5;241m*\u001B[39m\u001B[38;5;241m*\u001B[39mkwargs)\n",
      "File \u001B[1;32m~\\anaconda3\\Lib\\site-packages\\pandas\\core\\generic.py:2363\u001B[0m, in \u001B[0;36mNDFrame.to_excel\u001B[1;34m(self, excel_writer, sheet_name, na_rep, float_format, columns, header, index, index_label, startrow, startcol, engine, merge_cells, encoding, inf_rep, verbose, freeze_panes, storage_options)\u001B[0m\n\u001B[0;32m   2359\u001B[0m df \u001B[38;5;241m=\u001B[39m \u001B[38;5;28mself\u001B[39m \u001B[38;5;28;01mif\u001B[39;00m \u001B[38;5;28misinstance\u001B[39m(\u001B[38;5;28mself\u001B[39m, ABCDataFrame) \u001B[38;5;28;01melse\u001B[39;00m \u001B[38;5;28mself\u001B[39m\u001B[38;5;241m.\u001B[39mto_frame()\n\u001B[0;32m   2361\u001B[0m \u001B[38;5;28;01mfrom\u001B[39;00m \u001B[38;5;21;01mpandas\u001B[39;00m\u001B[38;5;21;01m.\u001B[39;00m\u001B[38;5;21;01mio\u001B[39;00m\u001B[38;5;21;01m.\u001B[39;00m\u001B[38;5;21;01mformats\u001B[39;00m\u001B[38;5;21;01m.\u001B[39;00m\u001B[38;5;21;01mexcel\u001B[39;00m \u001B[38;5;28;01mimport\u001B[39;00m ExcelFormatter\n\u001B[1;32m-> 2363\u001B[0m formatter \u001B[38;5;241m=\u001B[39m ExcelFormatter(\n\u001B[0;32m   2364\u001B[0m     df,\n\u001B[0;32m   2365\u001B[0m     na_rep\u001B[38;5;241m=\u001B[39mna_rep,\n\u001B[0;32m   2366\u001B[0m     cols\u001B[38;5;241m=\u001B[39mcolumns,\n\u001B[0;32m   2367\u001B[0m     header\u001B[38;5;241m=\u001B[39mheader,\n\u001B[0;32m   2368\u001B[0m     float_format\u001B[38;5;241m=\u001B[39mfloat_format,\n\u001B[0;32m   2369\u001B[0m     index\u001B[38;5;241m=\u001B[39mindex,\n\u001B[0;32m   2370\u001B[0m     index_label\u001B[38;5;241m=\u001B[39mindex_label,\n\u001B[0;32m   2371\u001B[0m     merge_cells\u001B[38;5;241m=\u001B[39mmerge_cells,\n\u001B[0;32m   2372\u001B[0m     inf_rep\u001B[38;5;241m=\u001B[39minf_rep,\n\u001B[0;32m   2373\u001B[0m )\n\u001B[0;32m   2374\u001B[0m formatter\u001B[38;5;241m.\u001B[39mwrite(\n\u001B[0;32m   2375\u001B[0m     excel_writer,\n\u001B[0;32m   2376\u001B[0m     sheet_name\u001B[38;5;241m=\u001B[39msheet_name,\n\u001B[1;32m   (...)\u001B[0m\n\u001B[0;32m   2381\u001B[0m     storage_options\u001B[38;5;241m=\u001B[39mstorage_options,\n\u001B[0;32m   2382\u001B[0m )\n",
      "File \u001B[1;32m~\\anaconda3\\Lib\\site-packages\\pandas\\io\\formats\\excel.py:562\u001B[0m, in \u001B[0;36mExcelFormatter.__init__\u001B[1;34m(self, df, na_rep, float_format, cols, header, index, index_label, merge_cells, inf_rep, style_converter)\u001B[0m\n\u001B[0;32m    558\u001B[0m \u001B[38;5;28;01mif\u001B[39;00m cols \u001B[38;5;129;01mis\u001B[39;00m \u001B[38;5;129;01mnot\u001B[39;00m \u001B[38;5;28;01mNone\u001B[39;00m:\n\u001B[0;32m    559\u001B[0m \n\u001B[0;32m    560\u001B[0m     \u001B[38;5;66;03m# all missing, raise\u001B[39;00m\n\u001B[0;32m    561\u001B[0m     \u001B[38;5;28;01mif\u001B[39;00m \u001B[38;5;129;01mnot\u001B[39;00m \u001B[38;5;28mlen\u001B[39m(Index(cols)\u001B[38;5;241m.\u001B[39mintersection(df\u001B[38;5;241m.\u001B[39mcolumns)):\n\u001B[1;32m--> 562\u001B[0m         \u001B[38;5;28;01mraise\u001B[39;00m \u001B[38;5;167;01mKeyError\u001B[39;00m(\u001B[38;5;124m\"\u001B[39m\u001B[38;5;124mpasses columns are not ALL present dataframe\u001B[39m\u001B[38;5;124m\"\u001B[39m)\n\u001B[0;32m    564\u001B[0m     \u001B[38;5;28;01mif\u001B[39;00m \u001B[38;5;28mlen\u001B[39m(Index(cols)\u001B[38;5;241m.\u001B[39mintersection(df\u001B[38;5;241m.\u001B[39mcolumns)) \u001B[38;5;241m!=\u001B[39m \u001B[38;5;28mlen\u001B[39m(\u001B[38;5;28mset\u001B[39m(cols)):\n\u001B[0;32m    565\u001B[0m         \u001B[38;5;66;03m# Deprecated in GH#17295, enforced in 1.0.0\u001B[39;00m\n\u001B[0;32m    566\u001B[0m         \u001B[38;5;28;01mraise\u001B[39;00m \u001B[38;5;167;01mKeyError\u001B[39;00m(\u001B[38;5;124m\"\u001B[39m\u001B[38;5;124mNot all names specified in \u001B[39m\u001B[38;5;124m'\u001B[39m\u001B[38;5;124mcolumns\u001B[39m\u001B[38;5;124m'\u001B[39m\u001B[38;5;124m are found\u001B[39m\u001B[38;5;124m\"\u001B[39m)\n",
      "\u001B[1;31mKeyError\u001B[0m: 'passes columns are not ALL present dataframe'"
     ]
    }
   ],
   "source": [
    "array1=np.array(sb_results)\n",
    "array2=np.array(cos_results)\n",
    "array3=np.array(trunc_results)\n",
    "eta_array=eta_at_mean*0.92*array1*array2*array3\n",
    "print(\"平均光学效率\")\n",
    "print(eta_array)\n",
    "eta_array=eta_array.tolist()\n",
    "results=[results,eta_array]\n",
    "print(results)\n",
    "\n",
    "df_result=pd.DataFrame(results)\n",
    "output_excel_file='result.xlsx'\n",
    "column_names=['eta_trunc','eta_sb','eta_cos','ave']\n",
    "df_result.to_excel(output_excel_file,columns=column_names,index=False)\n",
    "print(f'Data has been written to {output_excel_file}')"
   ],
   "metadata": {
    "collapsed": false
   }
  },
  {
   "cell_type": "code",
   "execution_count": null,
   "outputs": [],
   "source": [
    "excel_file = 'DNI.xlsx'  # 将 'your_excel_file.xlsx' 替换为你的Excel文件路径\n",
    "df_DNI = pd.read_excel(excel_file)\n",
    "DNI_list = df_DNI['DNI']\n",
    "DNI=np.array(DNI_list)[:12]\n",
    "total_area=1745*6*6\n",
    "print(\"总面积平方米\")\n",
    "print(total_area)\n",
    "print(\"平均光学效率\")\n",
    "print(eta_array)\n",
    "print(\"DNI\")\n",
    "print(DNI)\n",
    "print(\"结果\")\n",
    "ans=DNI*eta_array\n",
    "print(ans)"
   ],
   "metadata": {
    "collapsed": false
   }
  },
  {
   "cell_type": "code",
   "execution_count": null,
   "outputs": [],
   "source": [
    "ans_year=DNI*eta_array*total_area*1e-3\n",
    "print(ans_year)\n",
    "print(\"年平均输出热功率\")\n",
    "print(np.mean(ans_year))"
   ],
   "metadata": {
    "collapsed": false
   }
  },
  {
   "cell_type": "code",
   "execution_count": null,
   "outputs": [],
   "source": [
    "import numpy as np\n",
    "print('平均DNI')\n",
    "S=np.array(DNI)\n",
    "DNI_ave=np.mean(S)\n",
    "print(DNI_ave)"
   ],
   "metadata": {
    "collapsed": false
   }
  },
  {
   "cell_type": "code",
   "execution_count": null,
   "outputs": [],
   "source": [
    "import numpy as np\n",
    "print('平均DNI')\n",
    "S=np.array(DNI)\n",
    "DNI_ave=np.mean(S)\n",
    "print(DNI_ave)"
   ],
   "metadata": {
    "collapsed": false
   }
  }
 ],
 "metadata": {
  "kernelspec": {
   "display_name": "Python 3",
   "language": "python",
   "name": "python3"
  },
  "language_info": {
   "codemirror_mode": {
    "name": "ipython",
    "version": 2
   },
   "file_extension": ".py",
   "mimetype": "text/x-python",
   "name": "python",
   "nbconvert_exporter": "python",
   "pygments_lexer": "ipython2",
   "version": "2.7.6"
  }
 },
 "nbformat": 4,
 "nbformat_minor": 0
}
